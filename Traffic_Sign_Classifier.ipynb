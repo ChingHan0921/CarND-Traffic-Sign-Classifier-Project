{
 "cells": [
  {
   "cell_type": "markdown",
   "metadata": {},
   "source": [
    "# Self-Driving Car Engineer Nanodegree\n",
    "\n",
    "## Deep Learning\n",
    "\n",
    "## Project: Build a Traffic Sign Recognition Classifier\n",
    "\n",
    "In this notebook, a template is provided for you to implement your functionality in stages, which is required to successfully complete this project. If additional code is required that cannot be included in the notebook, be sure that the Python code is successfully imported and included in your submission if necessary. \n",
    "\n",
    "> **Note**: Once you have completed all of the code implementations, you need to finalize your work by exporting the iPython Notebook as an HTML document. Before exporting the notebook to html, all of the code cells need to have been run so that reviewers can see the final implementation and output. You can then export the notebook by using the menu above and navigating to  \\n\",\n",
    "    \"**File -> Download as -> HTML (.html)**. Include the finished document along with this notebook as your submission. \n",
    "\n",
    "In addition to implementing code, there is a writeup to complete. The writeup should be completed in a separate file, which can be either a markdown file or a pdf document. There is a [write up template](https://github.com/udacity/CarND-Traffic-Sign-Classifier-Project/blob/master/writeup_template.md) that can be used to guide the writing process. Completing the code template and writeup template will cover all of the [rubric points](https://review.udacity.com/#!/rubrics/481/view) for this project.\n",
    "\n",
    "The [rubric](https://review.udacity.com/#!/rubrics/481/view) contains \"Stand Out Suggestions\" for enhancing the project beyond the minimum requirements. The stand out suggestions are optional. If you decide to pursue the \"stand out suggestions\", you can include the code in this Ipython notebook and also discuss the results in the writeup file.\n",
    "\n",
    "\n",
    ">**Note:** Code and Markdown cells can be executed using the **Shift + Enter** keyboard shortcut. In addition, Markdown cells can be edited by typically double-clicking the cell to enter edit mode."
   ]
  },
  {
   "cell_type": "markdown",
   "metadata": {},
   "source": [
    "---\n",
    "## Step 0: Load The Data"
   ]
  },
  {
   "cell_type": "code",
   "execution_count": 1,
   "metadata": {},
   "outputs": [
    {
     "name": "stdout",
     "output_type": "stream",
     "text": [
      "X_train.shape:(34799, 32, 32, 3), y_train.shape:(34799,)\n",
      "X_test.shape :(12630, 32, 32, 3), y_test.shape :(12630,)\n",
      "\n",
      "Load Data Complete!!\n"
     ]
    }
   ],
   "source": [
    "# Load pickled data\n",
    "import pickle\n",
    "\n",
    "training_file   = \"./traffic-signs-data/train.p\"\n",
    "testing_file    = \"./traffic-signs-data/test.p\"\n",
    "\n",
    "with open(training_file, mode='rb') as f:\n",
    "    train = pickle.load(f)\n",
    "with open(testing_file, mode='rb') as f:\n",
    "    test = pickle.load(f)\n",
    "    \n",
    "X_train, y_train = train['features'], train['labels']\n",
    "X_test, y_test = test['features'], test['labels']\n",
    "\n",
    "print(\"X_train.shape:{}, y_train.shape:{}\".format(X_train.shape, y_train.shape))\n",
    "print(\"X_test.shape :{}, y_test.shape :{}\".format(X_test.shape, y_test.shape))\n",
    "\n",
    "print()\n",
    "print(\"Load Data Complete!!\")"
   ]
  },
  {
   "cell_type": "markdown",
   "metadata": {},
   "source": [
    "---\n",
    "\n",
    "## Step 1: Dataset Summary & Exploration\n",
    "\n",
    "The pickled data is a dictionary with 4 key/value pairs:\n",
    "\n",
    "- `'features'` is a 4D array containing raw pixel data of the traffic sign images, (num examples, width, height, channels).\n",
    "- `'labels'` is a 1D array containing the label/class id of the traffic sign. The file `signnames.csv` contains id -> name mappings for each id.\n",
    "- `'sizes'` is a list containing tuples, (width, height) representing the original width and height the image.\n",
    "- `'coords'` is a list containing tuples, (x1, y1, x2, y2) representing coordinates of a bounding box around the sign in the image. **THESE COORDINATES ASSUME THE ORIGINAL IMAGE. THE PICKLED DATA CONTAINS RESIZED VERSIONS (32 by 32) OF THESE IMAGES**\n",
    "\n",
    "Complete the basic data summary below. Use python, numpy and/or pandas methods to calculate the data summary rather than hard coding the results. For example, the [pandas shape method](http://pandas.pydata.org/pandas-docs/stable/generated/pandas.DataFrame.shape.html) might be useful for calculating some of the summary results. "
   ]
  },
  {
   "cell_type": "markdown",
   "metadata": {},
   "source": [
    "### Provide a Basic Summary of the Data Set Using Python, Numpy and/or Pandas"
   ]
  },
  {
   "cell_type": "code",
   "execution_count": 2,
   "metadata": {},
   "outputs": [
    {
     "name": "stderr",
     "output_type": "stream",
     "text": [
      "D:\\Miniconda3\\envs\\tensorflow\\lib\\site-packages\\sklearn\\cross_validation.py:41: DeprecationWarning: This module was deprecated in version 0.18 in favor of the model_selection module into which all the refactored classes and functions are moved. Also note that the interface of the new CV iterators are different from that of this module. This module will be removed in 0.20.\n",
      "  \"This module will be removed in 0.20.\", DeprecationWarning)\n"
     ]
    },
    {
     "name": "stdout",
     "output_type": "stream",
     "text": [
      "\n",
      "Import modules Complete!!\n"
     ]
    }
   ],
   "source": [
    "##==========Import modules==========##\n",
    "from tensorflow.contrib.layers import flatten\n",
    "from sklearn.cross_validation import train_test_split\n",
    "from sklearn.utils import shuffle\n",
    "\n",
    "import matplotlib.pyplot as plt\n",
    "import tensorflow as tf\n",
    "import numpy as np\n",
    "import random\n",
    "\n",
    "%matplotlib inline\n",
    "\n",
    "print()\n",
    "print(\"Import modules Complete!!\")"
   ]
  },
  {
   "cell_type": "code",
   "execution_count": 3,
   "metadata": {},
   "outputs": [
    {
     "name": "stdout",
     "output_type": "stream",
     "text": [
      "Number of training examples = 34799\n",
      "Number of testing examples = 12630\n",
      "Image data shape = (32, 32, 3)\n",
      "Number of classes = 43\n",
      "[(0, 180), (1, 1980), (2, 2010), (3, 1260), (4, 1770), (5, 1650), (6, 360), (7, 1290), (8, 1260), (9, 1320), (10, 1800), (11, 1170), (12, 1890), (13, 1920), (14, 690), (15, 540), (16, 360), (17, 990), (18, 1080), (19, 180), (20, 300), (21, 270), (22, 330), (23, 450), (24, 240), (25, 1350), (26, 540), (27, 210), (28, 480), (29, 240), (30, 390), (31, 690), (32, 210), (33, 599), (34, 360), (35, 1080), (36, 330), (37, 180), (38, 1860), (39, 270), (40, 300), (41, 210), (42, 210)]\n"
     ]
    }
   ],
   "source": [
    "### Replace each question mark with the appropriate value. \n",
    "### Use python, pandas or numpy methods rather than hard coding the results\n",
    "\n",
    "#Number of training examples\n",
    "n_train = len(X_train)\n",
    "\n",
    "#Number of testing examples.\n",
    "n_test = len(X_test)\n",
    "\n",
    "#What's the shape of an traffic sign image?\n",
    "image_shape = X_train[0].shape\n",
    "\n",
    "#How many unique classes/labels there are in the dataset.\n",
    "n_classes, counts = np.unique(y_train, return_counts=True)\n",
    "\n",
    "print(\"Number of training examples =\", n_train)\n",
    "print(\"Number of testing examples =\", n_test)\n",
    "print(\"Image data shape =\", image_shape)\n",
    "print(\"Number of classes =\", len(n_classes))\n",
    "print(list(zip(n_classes,counts)))"
   ]
  },
  {
   "cell_type": "markdown",
   "metadata": {},
   "source": [
    "### Include an exploratory visualization of the dataset"
   ]
  },
  {
   "cell_type": "markdown",
   "metadata": {},
   "source": [
    "Visualize the German Traffic Signs Dataset using the pickled file(s). This is open ended, suggestions include: plotting traffic sign images, plotting the count of each sign, etc. \n",
    "\n",
    "The [Matplotlib](http://matplotlib.org/) [examples](http://matplotlib.org/examples/index.html) and [gallery](http://matplotlib.org/gallery.html) pages are a great resource for doing visualizations in Python.\n",
    "\n",
    "**NOTE:** It's recommended you start with something simple first. If you wish to do more, come back to it after you've completed the rest of the sections. It can be interesting to look at the distribution of classes in the training, validation and test set. Is the distribution the same? Are there more examples of some classes than others?"
   ]
  },
  {
   "cell_type": "code",
   "execution_count": 4,
   "metadata": {},
   "outputs": [
    {
     "data": {
      "text/plain": [
       "<matplotlib.figure.Figure at 0x2cf52978>"
      ]
     },
     "metadata": {},
     "output_type": "display_data"
    },
    {
     "data": {
      "image/png": "[encoded data removed]",
      "text/plain": [
       "<matplotlib.figure.Figure at 0x2cf561d0>"
      ]
     },
     "metadata": {},
     "output_type": "display_data"
    }
   ],
   "source": [
    "##==========Data exploration visualization code goes here.==========##\n",
    "\n",
    "def plot_images_labels(image,labels):\n",
    "    fig = plt.gcf()\n",
    "    fig.set_size_inches(12, 14)\n",
    "\n",
    "    fig, axs = plt.subplots(2, 5, figsize=(15, 6))\n",
    "    for i in range(10):\n",
    "        j = int(i/5)\n",
    "        k = i - 5*j\n",
    "        index = random.randint(0, len(image))\n",
    "        axs[j, k].imshow(image[index])\n",
    "        title = \"label=\" + str(labels[index])\n",
    "        axs[j, k].set_title(title)\n",
    "    plt.show()\n",
    "\n",
    "plot_images_labels(X_train,y_train)"
   ]
  },
  {
   "cell_type": "code",
   "execution_count": 5,
   "metadata": {},
   "outputs": [
    {
     "data": {
      "image/png": "[encoded data removed]",
      "text/plain": [
       "<matplotlib.figure.Figure at 0x2cf522b0>"
      ]
     },
     "metadata": {},
     "output_type": "display_data"
    }
   ],
   "source": [
    "##==========histogram of y_train==========##\n",
    "hist, bins = np.histogram(y_train, bins=n_classes)\n",
    "width = 0.7 * (bins[1] - bins[0])\n",
    "center = ((bins[:-1] + bins[1:]) / 2)\n",
    "plt.bar(center, hist, align='center', width=width)\n",
    "plt.show()"
   ]
  },
  {
   "cell_type": "markdown",
   "metadata": {},
   "source": [
    "----\n",
    "\n",
    "## Step 2: Design and Test a Model Architecture\n",
    "\n",
    "Design and implement a deep learning model that learns to recognize traffic signs. Train and test your model on the [German Traffic Sign Dataset](http://benchmark.ini.rub.de/?section=gtsrb&subsection=dataset).\n",
    "\n",
    "The LeNet-5 implementation shown in the [classroom](https://classroom.udacity.com/nanodegrees/nd013/parts/fbf77062-5703-404e-b60c-95b78b2f3f9e/modules/6df7ae49-c61c-4bb2-a23e-6527e69209ec/lessons/601ae704-1035-4287-8b11-e2c2716217ad/concepts/d4aca031-508f-4e0b-b493-e7b706120f81) at the end of the CNN lesson is a solid starting point. You'll have to change the number of classes and possibly the preprocessing, but aside from that it's plug and play! \n",
    "\n",
    "With the LeNet-5 solution from the lecture, you should expect a validation set accuracy of about 0.89. To meet specifications, the validation set accuracy will need to be at least 0.93. It is possible to get an even higher accuracy, but 0.93 is the minimum for a successful project submission. \n",
    "\n",
    "There are various aspects to consider when thinking about this problem:\n",
    "\n",
    "- Neural network architecture (is the network over or underfitting?)\n",
    "- Play around preprocessing techniques (normalization, rgb to grayscale, etc)\n",
    "- Number of examples per label (some have more than others).\n",
    "- Generate fake data.\n",
    "\n",
    "Here is an example of a [published baseline model on this problem](http://yann.lecun.com/exdb/publis/pdf/sermanet-ijcnn-11.pdf). It's not required to be familiar with the approach used in the paper but, it's good practice to try to read papers like these."
   ]
  },
  {
   "cell_type": "markdown",
   "metadata": {},
   "source": [
    "### Pre-process the Data Set (normalization, grayscale, etc.)"
   ]
  },
  {
   "cell_type": "markdown",
   "metadata": {},
   "source": [
    "Minimally, the image data should be normalized so that the data has mean zero and equal variance. For image data, `(pixel - 128)/ 128` is a quick way to approximately normalize the data and can be used in this project. \n",
    "\n",
    "Other pre-processing steps are optional. You can try different techniques to see if it improves performance. \n",
    "\n",
    "Use the code cell (or multiple code cells, if necessary) to implement the first step of your project."
   ]
  },
  {
   "cell_type": "code",
   "execution_count": 6,
   "metadata": {},
   "outputs": [
    {
     "name": "stdout",
     "output_type": "stream",
     "text": [
      "X_train.shape:(34799, 32, 32, 3), y_train.shape:(34799,)\n",
      "X_test.shape :(12630, 32, 32, 3), y_test.shape :(12630,)\n",
      "\n",
      "X_train_split.shape:(24359, 32, 32, 3), y_train_split.shape:(24359,)\n",
      "X_valid_split.shape:(10440, 32, 32, 3), y_valid_split.shape:(10440,)\n",
      "X_test.shape:(12630, 32, 32, 3), y_test.shape:(12630,)\n",
      "\n",
      "Split done\n"
     ]
    }
   ],
   "source": [
    "##==========Split the data into training/validation/testing sets here.==========##\n",
    "X_train_split, X_valid_split, y_train_split, y_valid_split = train_test_split(\n",
    "X_train, y_train , test_size=0.3, random_state=2275)\n",
    "\n",
    "print(\"X_train.shape:{}, y_train.shape:{}\".format(X_train.shape, y_train.shape))\n",
    "print(\"X_test.shape :{}, y_test.shape :{}\".format(X_test.shape, y_test.shape))\n",
    "\n",
    "print()\n",
    "\n",
    "print(\"X_train_split.shape:{}, y_train_split.shape:{}\".format(X_train_split.shape, y_train_split.shape))\n",
    "print(\"X_valid_split.shape:{}, y_valid_split.shape:{}\".format(X_valid_split.shape, y_valid_split.shape))\n",
    "print(\"X_test.shape:{}, y_test.shape:{}\".format(X_test.shape, y_test.shape))\n",
    "\n",
    "print()\n",
    "print('Split done')"
   ]
  },
  {
   "cell_type": "code",
   "execution_count": 7,
   "metadata": {},
   "outputs": [
    {
     "name": "stdout",
     "output_type": "stream",
     "text": [
      "X_train.mean: 82.6201819068\n",
      "X_valid.mean: 82.8115335087\n",
      "X_test.mean: 82.1484603612\n",
      "X_train_normalized.mean: -0.354529828853\n",
      "X_valid_normalized.mean: -0.353034894463\n",
      "X_test_normalized.mean: -0.358215153428\n",
      "\n",
      "Normalize done\n"
     ]
    }
   ],
   "source": [
    "### Preprocess the data here. It is required to normalize the data. Other preprocessing steps could include converting to grayscale, etc.\n",
    "### Feel free to use as many code cells as needed.\n",
    "  \n",
    "##==========Normalize image data==========##\n",
    "#X_train_normalized <==> y_train_split\n",
    "#X_valid_normalized <==> y_valid_split\n",
    "#X_test_normalized  <==> y_test\n",
    "\n",
    "X_train_normalized = (X_train_split.astype(float) - 128)/128\n",
    "X_valid_normalized = (X_valid_split.astype(float) - 128)/128\n",
    "X_test_normalized  = (X_test.astype(float) - 128)/128\n",
    "\n",
    "#X_train_normalized = X_train_split\n",
    "#X_valid_normalized = X_valid_split\n",
    "#X_test_normalized = X_test\n",
    "\n",
    "print(\"X_train.mean:\", np.mean(X_train_split))\n",
    "print(\"X_valid.mean:\", np.mean(X_valid_split))\n",
    "print(\"X_test.mean:\", np.mean(X_test))\n",
    "\n",
    "print(\"X_train_normalized.mean:\", np.mean(X_train_normalized))\n",
    "print(\"X_valid_normalized.mean:\", np.mean(X_valid_normalized))\n",
    "print(\"X_test_normalized.mean:\", np.mean(X_test_normalized))\n",
    "\n",
    "print()\n",
    "print('Normalize done')"
   ]
  },
  {
   "cell_type": "markdown",
   "metadata": {},
   "source": [
    "### Model Architecture"
   ]
  },
  {
   "cell_type": "code",
   "execution_count": 8,
   "metadata": {},
   "outputs": [
    {
     "name": "stdout",
     "output_type": "stream",
     "text": [
      "\n",
      "Parameter Setting done\n"
     ]
    }
   ],
   "source": [
    "#==========Parameter Setting.==========##\n",
    "EPOCHS = 60\n",
    "BATCH_SIZE = 128\n",
    "\n",
    "print()\n",
    "print('Parameter Setting done')"
   ]
  },
  {
   "cell_type": "code",
   "execution_count": 9,
   "metadata": {},
   "outputs": [
    {
     "name": "stdout",
     "output_type": "stream",
     "text": [
      "Done\n"
     ]
    }
   ],
   "source": [
    "##==========Implement Convolutional Net==========##\n",
    "### Feel free to use as many code cells as needed.\n",
    "\n",
    "def German_Traffic_Sign_Net(x):\n",
    "    mu = 0\n",
    "    sigma = 0.1\n",
    "    \n",
    "    # Layer 1(Convolutional): Input = 32x32x3. Output = 28x28x6.\n",
    "    conv1_w = tf.Variable(tf.truncated_normal(shape = (5, 5, 3, 6), mean = mu, stddev = sigma))\n",
    "#conv1_b = tf.Variable(tf.zeros(6), name='conv1_b')\n",
    "    conv1_b = tf.Variable(tf.constant(0.2, shape = [6]))\n",
    "    conv1   = tf.nn.conv2d(x, conv1_w, strides = [1, 1, 1, 1], padding = 'VALID') + conv1_b\n",
    "    \n",
    "    # Layer 1(Convolutional): Activation.\n",
    "    conv1   = tf.nn.relu(conv1)\n",
    "    \n",
    "    # Layer 1(Convolutional): Pooling. Input = 28x28x6. Output = 14x14x6.\n",
    "    conv1   = tf.nn.max_pool(conv1, ksize = [1, 2, 2, 1], strides = [1, 2, 2, 1], padding = 'VALID')\n",
    "        \n",
    "    # Layer 2(Convolutional): Output = 10x10x16.\n",
    "    conv2_w = tf.Variable(tf.truncated_normal(shape = (5, 5, 6, 16), mean = mu, stddev = sigma))\n",
    "#conv2_b = tf.Variable(tf.zeros(16), name='conv2_b')\n",
    "    conv2_b = tf.Variable(tf.constant(0.2, shape = [16]))\n",
    "    conv2   = tf.nn.conv2d(conv1, conv2_w, strides = [1, 1, 1, 1], padding = 'VALID') + conv2_b\n",
    "    \n",
    "    # Layer 2(Convolutional): Activation.\n",
    "    conv2   = tf.nn.relu(conv2)\n",
    "    \n",
    "    # Layer 2(Convolutional): Pooling. Input = 10x10x16. Output = 5x5x16.\n",
    "    conv2   = tf.nn.max_pool(conv2, ksize = [1, 2, 2, 1], strides = [1, 2, 2, 1], padding = 'VALID')\n",
    "    \n",
    "    # Flatten\n",
    "    # Layer 0(Fully Connected). Input = 5x5x16. Output = 400.\n",
    "    fc0   = flatten(conv2)\n",
    "    \n",
    "    # Layer 1(Fully Connected): Input = 400. Output = 120.\n",
    "    fc1_w = tf.Variable(tf.truncated_normal(shape = (400, 120), mean = mu, stddev = sigma))\n",
    "#fc1_b = tf.Variable(tf.zeros(120))\n",
    "    fc1_b = tf.Variable(tf.constant(0.2, shape=[120]))\n",
    "    fc1   = tf.matmul(fc0, fc1_w) + fc1_b\n",
    "    \n",
    "    # Layer 1(Fully Connected): Activation.\n",
    "    fc1   = tf.nn.relu(fc1)\n",
    "    \n",
    "    # Layer 1(Fully Connected): Dropout\n",
    "    fc1   = tf.nn.dropout(fc1, keep_prob)   \n",
    "        \n",
    "    # Layer 2(Fully Connected): Input = 120. Output = 84.\n",
    "    fc2_w = tf.Variable(tf.truncated_normal(shape = (120, 84), mean = mu, stddev = sigma))\n",
    "#fc2_b = tf.Variable(tf.zeros(84))\n",
    "    fc2_b = tf.Variable(tf.constant(0.2, shape = [84]))\n",
    "    fc2   = tf.matmul(fc1, fc2_w) + fc2_b\n",
    "    \n",
    "    # Layer 2(Fully Connected): Activation.\n",
    "    fc2   = tf.nn.relu(fc2)\n",
    "    \n",
    "    # Layer 2(Fully Connected): Dropout\n",
    "    fc2   = tf.nn.dropout(fc2, keep_prob)    \n",
    "        \n",
    "    # Layer 3(Fully Connected): Input = 84. Output = 43\n",
    "    fc3_w = tf.Variable(tf.truncated_normal(shape = (84, 43), mean = mu, stddev = sigma))\n",
    "#fc3_b = tf.Variable(tf.zeros(43))\n",
    "    fc3_b = tf.Variable(tf.constant(0.2, shape = [43]))\n",
    "    logits = tf.matmul(fc2, fc3_w) + fc3_b\n",
    "    \n",
    "    return logits \n",
    "                        \n",
    "print('Done')"
   ]
  },
  {
   "cell_type": "code",
   "execution_count": 10,
   "metadata": {},
   "outputs": [
    {
     "name": "stdout",
     "output_type": "stream",
     "text": [
      "Done\n"
     ]
    }
   ],
   "source": [
    "## Create placeholders for input tensors\n",
    "##==========Features and Labels==========##\n",
    "x = tf.placeholder(tf.float32, (None, 32, 32, 3))\n",
    "y = tf.placeholder(tf.int32, (None))\n",
    "keep_prob = tf.placeholder(tf.float32)\n",
    "one_hot_y = tf.one_hot(y, 43)\n",
    "\n",
    "print('Done')"
   ]
  },
  {
   "cell_type": "code",
   "execution_count": 11,
   "metadata": {},
   "outputs": [
    {
     "name": "stdout",
     "output_type": "stream",
     "text": [
      "Done\n"
     ]
    }
   ],
   "source": [
    "##==========Training Pipeline==========##\n",
    "rate = 0.001 # Learning rate\n",
    "\n",
    "logits = German_Traffic_Sign_Net(x)\n",
    "cross_entropy = tf.nn.softmax_cross_entropy_with_logits(labels = one_hot_y, logits = logits)\n",
    "loss_operation = tf.reduce_mean(cross_entropy)\n",
    "\n",
    "optimizer = tf.train.AdamOptimizer(learning_rate = rate)\n",
    "training_operation = optimizer.minimize(loss_operation)\n",
    "\n",
    "print('Done')"
   ]
  },
  {
   "cell_type": "code",
   "execution_count": 12,
   "metadata": {},
   "outputs": [
    {
     "name": "stdout",
     "output_type": "stream",
     "text": [
      "Done\n"
     ]
    }
   ],
   "source": [
    "##==========Model Evaluation==========##\n",
    "correct_prediction = tf.equal(tf.argmax(logits, 1), tf.argmax(one_hot_y, 1))\n",
    "accuracy_operation = tf.reduce_mean(tf.cast(correct_prediction, tf.float32))\n",
    "saver = tf.train.Saver()\n",
    "prediction = tf.argmax(logits,1)\n",
    "\n",
    "def evaluate(X_data, y_data):\n",
    "    num_examples = len(X_data)\n",
    "    total_accuracy = 0\n",
    "    predictions = []\n",
    "    \n",
    "    sess = tf.get_default_session()\n",
    "    for offset in range(0, num_examples, BATCH_SIZE):\n",
    "        batch_x, batch_y = X_data[offset:offset+BATCH_SIZE], y_data[offset:offset+BATCH_SIZE]\n",
    "        accuracy = sess.run(accuracy_operation, feed_dict={x: batch_x, y: batch_y, keep_prob: 1.0})\n",
    "        #temp = sess.run(prediction, feed_dict={x: batch_x, y: batch_y, keep_prob: 1.0})\n",
    "        predictions.append(sess.run(prediction, feed_dict={x: batch_x, y: batch_y, keep_prob: 1.0}))\n",
    "        total_accuracy += (accuracy * len(batch_x))\n",
    "    return total_accuracy / num_examples ,predictions  \n",
    "\n",
    "print('Done')"
   ]
  },
  {
   "cell_type": "markdown",
   "metadata": {},
   "source": [
    "### Train, Validate and Test the Model"
   ]
  },
  {
   "cell_type": "markdown",
   "metadata": {},
   "source": [
    "A validation set can be used to assess how well the model is performing. A low accuracy on the training and validation\n",
    "sets imply underfitting. A high accuracy on the training set but low accuracy on the validation set implies overfitting."
   ]
  },
  {
   "cell_type": "code",
   "execution_count": null,
   "metadata": {
    "scrolled": true
   },
   "outputs": [
    {
     "name": "stdout",
     "output_type": "stream",
     "text": [
      "Training...\n",
      "\n",
      "EPOCH 1 ...\n",
      "Training   Accuracy = 0.739\n",
      "Validation Accuracy = 0.730\n",
      "EPOCH 2 ...\n",
      "Training   Accuracy = 0.887\n",
      "Validation Accuracy = 0.875\n",
      "EPOCH 3 ...\n",
      "Training   Accuracy = 0.920\n",
      "Validation Accuracy = 0.909\n",
      "EPOCH 4 ...\n",
      "Training   Accuracy = 0.946\n",
      "Validation Accuracy = 0.931\n",
      "EPOCH 5 ...\n",
      "Training   Accuracy = 0.960\n",
      "Validation Accuracy = 0.949\n",
      "EPOCH 6 ...\n",
      "Training   Accuracy = 0.974\n",
      "Validation Accuracy = 0.962\n",
      "EPOCH 7 ...\n",
      "Training   Accuracy = 0.979\n",
      "Validation Accuracy = 0.968\n",
      "EPOCH 8 ...\n",
      "Training   Accuracy = 0.984\n",
      "Validation Accuracy = 0.974\n",
      "EPOCH 9 ...\n",
      "Training   Accuracy = 0.985\n",
      "Validation Accuracy = 0.973\n",
      "EPOCH 10 ...\n",
      "Training   Accuracy = 0.987\n",
      "Validation Accuracy = 0.977\n",
      "EPOCH 11 ...\n",
      "Training   Accuracy = 0.991\n",
      "Validation Accuracy = 0.979\n",
      "EPOCH 12 ...\n",
      "Training   Accuracy = 0.992\n",
      "Validation Accuracy = 0.980\n",
      "EPOCH 13 ...\n",
      "Training   Accuracy = 0.993\n",
      "Validation Accuracy = 0.982\n",
      "EPOCH 14 ...\n",
      "Training   Accuracy = 0.994\n",
      "Validation Accuracy = 0.982\n",
      "EPOCH 15 ...\n",
      "Training   Accuracy = 0.995\n",
      "Validation Accuracy = 0.982\n",
      "EPOCH 16 ...\n",
      "Training   Accuracy = 0.993\n",
      "Validation Accuracy = 0.982\n",
      "EPOCH 17 ...\n",
      "Training   Accuracy = 0.996\n",
      "Validation Accuracy = 0.984\n",
      "EPOCH 18 ...\n",
      "Training   Accuracy = 0.996\n",
      "Validation Accuracy = 0.985\n",
      "EPOCH 19 ...\n",
      "Training   Accuracy = 0.996\n",
      "Validation Accuracy = 0.985\n",
      "EPOCH 20 ...\n",
      "Training   Accuracy = 0.996\n",
      "Validation Accuracy = 0.985\n"
     ]
    }
   ],
   "source": [
    "### Train your model here.\n",
    "### Calculate and report the accuracy on the training and validation set.\n",
    "### Once a final model architecture is selected, \n",
    "### the accuracy on the test set should be calculated and reported as well.\n",
    "### Feel free to use as many code cells as needed.\n",
    "\n",
    "##==========Train the Model==========##\n",
    "with tf.Session() as sess:\n",
    "    sess.run(tf.global_variables_initializer())\n",
    "    num_examples = len(X_train_normalized)\n",
    "    Training_acc = np.zeros(EPOCHS)\n",
    "    Validation_acc = np.zeros(EPOCHS)\n",
    "    Training_predictions = np.zeros(EPOCHS)\n",
    "    Validation_predictions = np.zeros(EPOCHS)\n",
    "\n",
    "    print(\"Training...\")\n",
    "    print()\n",
    "    for i in range(EPOCHS):\n",
    "        X_train_shuffle, y_train_shuffle = shuffle(X_train_normalized, y_train_split)\n",
    "        for offset in range(0, num_examples, BATCH_SIZE):\n",
    "            end = offset + BATCH_SIZE\n",
    "            batch_x, batch_y = X_train_shuffle[offset:end], y_train_shuffle[offset:end]\n",
    "            sess.run(training_operation, feed_dict={x: batch_x, y: batch_y, keep_prob: 0.7})\n",
    "        \n",
    "        Training_acc[i], Training_predictions = evaluate(X_train_normalized, y_train_split)\n",
    "        Validation_acc[i], Validation_predictions = evaluate(X_valid_normalized, y_valid_split)\n",
    "        print(\"EPOCH {} ...\".format(i+1))\n",
    "        print(\"Training   Accuracy = {:.3f}\".format(Training_acc[i]))\n",
    "        print(\"Validation Accuracy = {:.3f}\".format(Validation_acc[i]))\n",
    "\n",
    "    #print(\"Done\")\n",
    "    saver.save(sess, './German_Traffic_Sign_Net')\n",
    "    print(\"Model saved\")"
   ]
  },
  {
   "cell_type": "code",
   "execution_count": null,
   "metadata": {},
   "outputs": [],
   "source": [
    "##==========Plot training and validation accuracies curve==========##\n",
    "plt.figure(figsize=(6, 6))\n",
    "plt.plot(Training_acc, label='Training')\n",
    "plt.plot(Validation_acc, label='Validation')\n",
    "plt.ylabel('Accuracy')\n",
    "plt.xlabel('No. of epochs')\n",
    "plt.legend(loc='lower right')\n",
    "plt.show()"
   ]
  },
  {
   "cell_type": "code",
   "execution_count": null,
   "metadata": {},
   "outputs": [],
   "source": [
    "#==========Evaluate the accuracy of the model==========##\n",
    "with tf.Session() as sess:\n",
    "    saver.restore(sess, tf.train.latest_checkpoint('.'))\n",
    "    test_accuracy, Testing_predictions = evaluate(X_test_normalized, y_test)\n",
    "    print(\"Test Set Accuracy = {:.3f}\".format(test_accuracy)) "
   ]
  },
  {
   "cell_type": "markdown",
   "metadata": {},
   "source": [
    "---\n",
    "\n",
    "## Step 3: Test a Model on New Images\n",
    "\n",
    "To give yourself more insight into how your model is working, download at least five pictures of German traffic signs from the web and use your model to predict the traffic sign type.\n",
    "\n",
    "You may find `signnames.csv` useful as it contains mappings from the class id (integer) to the actual sign name."
   ]
  },
  {
   "cell_type": "markdown",
   "metadata": {},
   "source": [
    "### Load and Output the Images"
   ]
  },
  {
   "cell_type": "code",
   "execution_count": null,
   "metadata": {},
   "outputs": [],
   "source": [
    "#==========Load the images and plot them here.==========##\n",
    "### Feel free to use as many code cells as needed.\n",
    "import matplotlib.image as mpimg\n",
    "import matplotlib.pyplot as plt\n",
    "#import cv2\n",
    "\n",
    "New_Image = []\n",
    "New_Image_Labels = [1, 3, 11, 12, 14, 20, 22, 23, 25, 28]\n",
    "\n",
    "def show_new_images(img, label):\n",
    "    print(\"Label:\", label)\n",
    "    image = mpimg.imread(img)\n",
    "    print(\"Image_Shape:\", image.shape)\n",
    "    #images_normalized = (image - 128)/128\n",
    "    #images_normalized = image.squeeze()\n",
    "    images_normalized = image\n",
    "    plt.imshow(images_normalized)\n",
    "    New_Image.append(images_normalized)\n",
    "    plt.imshow(image)\n",
    "    plt.show()   \n",
    "\n",
    "show_new_images('./New_Images/Speed_Limit(1).jpg', 1)\n",
    "show_new_images('./New_Images/Speed_Limit(3).jpg', 3)\n",
    "show_new_images('./New_Images/Right_of_way_at _the_next _Intersection(11).jpg', 11)\n",
    "show_new_images('./New_Images/Priority_Road(12).jpg', 12)\n",
    "show_new_images('./New_Images/Stop(14).jpg', 14)\n",
    "show_new_images('./New_Images/Dangerous_Curve_to_the_Right(20).jpg', 20)\n",
    "show_new_images('./New_Images/Bumpy_Road(22).jpg', 22)\n",
    "show_new_images('./New_Images/Slippery_Road(23).jpg', 23)\n",
    "show_new_images('./New_Images/Road_Work(25).jpg', 25)\n",
    "show_new_images('./New_Images/Children_Crossing(28).jpg', 28)\n",
    "\n",
    "print(\"Lenth of New_Image:\",len(New_Image))\n",
    "print(\"Lenth of New_Image_Labels:\",len(New_Image_Labels))\n",
    "\n",
    "print('Done')"
   ]
  },
  {
   "cell_type": "markdown",
   "metadata": {},
   "source": [
    "### Predict the Sign Type for Each Image"
   ]
  },
  {
   "cell_type": "code",
   "execution_count": null,
   "metadata": {
    "collapsed": true
   },
   "outputs": [],
   "source": [
    "### Run the predictions here and use the model to output the prediction for each image.\n",
    "### Make sure to pre-process the images with the same pre-processing pipeline used earlier.\n",
    "### Feel free to use as many code cells as needed.\n",
    "\n",
    "print(\"New_Image_Labels = {}\".format(New_Image_Labels))\n",
    "\n",
    "Softmax_top_k = tf.nn.top_k(Softmax_logits, k=5)\n",
    "\n",
    "with tf.Session() as sess:\n",
    "    sess.run(tf.global_variables_initializer())\n",
    "    saver.restore(sess, tf.train.latest_checkpoint('.'))\n",
    "    New_images_acc ,New_images_prediction = evaluate(New_Image, New_Image_Labels)\n",
    "    print(\"New_images_prediction = {}\".format(New_images_prediction))\n",
    "    print()\n",
    "   \n",
    "    _logits = sess.run(logits, feed_dict={x:New_Image, y:New_Image_Labels, keep_prob:1.0})\n",
    "    Softmax_Logits_New_Images = tf.nn.softmax(_logits)\n",
    "    print(\"Softmax_Logits_New_Images = \", Softmax_Logits_New_Images)\n",
    "    print()\n",
    "    \n",
    "    Softmax_top_k_New_Images  = sess.run(tf.nn.top_k(Softmax_Logits_New_Images, k=5))\n",
    "    print(\"Softmax_top_k_New_Images = \", Softmax_top_k_New_Images)\n",
    "    print() \n",
    "\n",
    "print(\"Predict Done.\")    "
   ]
  },
  {
   "cell_type": "markdown",
   "metadata": {},
   "source": [
    "### Analyze Performance"
   ]
  },
  {
   "cell_type": "code",
   "execution_count": null,
   "metadata": {
    "collapsed": true
   },
   "outputs": [],
   "source": [
    "### Calculate the accuracy for these 5 new images. \n",
    "### For example, if the model predicted 1 out of 5 signs correctly, it's 20% accurate on these new images.\n",
    "\n",
    "print(\"New Image Accuracy = {:.3f}\".format(New_images_acc))\n",
    "print() \n",
    "print(\"Analyze Performance Done.\")"
   ]
  },
  {
   "cell_type": "markdown",
   "metadata": {},
   "source": [
    "### Output Top 5 Softmax Probabilities For Each Image Found on the Web"
   ]
  },
  {
   "cell_type": "markdown",
   "metadata": {},
   "source": [
    "For each of the new images, print out the model's softmax probabilities to show the **certainty** of the model's predictions (limit the output to the top 5 probabilities for each image). [`tf.nn.top_k`](https://www.tensorflow.org/versions/r0.12/api_docs/python/nn.html#top_k) could prove helpful here. \n",
    "\n",
    "The example below demonstrates how tf.nn.top_k can be used to find the top k predictions for each image.\n",
    "\n",
    "`tf.nn.top_k` will return the values and indices (class ids) of the top k predictions. So if k=3, for each sign, it'll return the 3 largest probabilities (out of a possible 43) and the correspoding class ids.\n",
    "\n",
    "Take this numpy array as an example. The values in the array represent predictions. The array contains softmax probabilities for five candidate images with six possible classes. `tf.nn.top_k` is used to choose the three classes with the highest probability:\n",
    "\n",
    "```\n",
    "# (5, 6) array\n",
    "a = np.array([[ 0.24879643,  0.07032244,  0.12641572,  0.34763842,  0.07893497,\n",
    "         0.12789202],\n",
    "       [ 0.28086119,  0.27569815,  0.08594638,  0.0178669 ,  0.18063401,\n",
    "         0.15899337],\n",
    "       [ 0.26076848,  0.23664738,  0.08020603,  0.07001922,  0.1134371 ,\n",
    "         0.23892179],\n",
    "       [ 0.11943333,  0.29198961,  0.02605103,  0.26234032,  0.1351348 ,\n",
    "         0.16505091],\n",
    "       [ 0.09561176,  0.34396535,  0.0643941 ,  0.16240774,  0.24206137,\n",
    "         0.09155967]])\n",
    "```\n",
    "\n",
    "Running it through `sess.run(tf.nn.top_k(tf.constant(a), k=3))` produces:\n",
    "\n",
    "```\n",
    "TopKV2(values=array([[ 0.34763842,  0.24879643,  0.12789202],\n",
    "       [ 0.28086119,  0.27569815,  0.18063401],\n",
    "       [ 0.26076848,  0.23892179,  0.23664738],\n",
    "       [ 0.29198961,  0.26234032,  0.16505091],\n",
    "       [ 0.34396535,  0.24206137,  0.16240774]]), indices=array([[3, 0, 5],\n",
    "       [0, 1, 4],\n",
    "       [0, 5, 1],\n",
    "       [1, 3, 5],\n",
    "       [1, 4, 3]], dtype=int32))\n",
    "```\n",
    "\n",
    "Looking just at the first row we get `[ 0.34763842,  0.24879643,  0.12789202]`, you can confirm these are the 3 largest probabilities in `a`. You'll also notice `[3, 0, 5]` are the corresponding indices."
   ]
  },
  {
   "cell_type": "code",
   "execution_count": null,
   "metadata": {
    "collapsed": true
   },
   "outputs": [],
   "source": [
    "### Print out the top five softmax probabilities for the predictions on the German traffic sign images found on the web. \n",
    "### Feel free to use as many code cells as needed.\n"
   ]
  },
  {
   "cell_type": "markdown",
   "metadata": {},
   "source": [
    "### Project Writeup\n",
    "\n",
    "Once you have completed the code implementation, document your results in a project writeup using this [template](https://github.com/udacity/CarND-Traffic-Sign-Classifier-Project/blob/master/writeup_template.md) as a guide. The writeup can be in a markdown or pdf file. "
   ]
  },
  {
   "cell_type": "markdown",
   "metadata": {},
   "source": [
    "> **Note**: Once you have completed all of the code implementations and successfully answered each question above, you may finalize your work by exporting the iPython Notebook as an HTML document. You can do this by using the menu above and navigating to  \\n\",\n",
    "    \"**File -> Download as -> HTML (.html)**. Include the finished document along with this notebook as your submission."
   ]
  },
  {
   "cell_type": "markdown",
   "metadata": {},
   "source": [
    "---\n",
    "\n",
    "## Step 4 (Optional): Visualize the Neural Network's State with Test Images\n",
    "\n",
    " This Section is not required to complete but acts as an additional excersise for understaning the output of a neural network's weights. While neural networks can be a great learning device they are often referred to as a black box. We can understand what the weights of a neural network look like better by plotting their feature maps. After successfully training your neural network you can see what it's feature maps look like by plotting the output of the network's weight layers in response to a test stimuli image. From these plotted feature maps, it's possible to see what characteristics of an image the network finds interesting. For a sign, maybe the inner network feature maps react with high activation to the sign's boundary outline or to the contrast in the sign's painted symbol.\n",
    "\n",
    " Provided for you below is the function code that allows you to get the visualization output of any tensorflow weight layer you want. The inputs to the function should be a stimuli image, one used during training or a new one you provided, and then the tensorflow variable name that represents the layer's state during the training process, for instance if you wanted to see what the [LeNet lab's](https://classroom.udacity.com/nanodegrees/nd013/parts/fbf77062-5703-404e-b60c-95b78b2f3f9e/modules/6df7ae49-c61c-4bb2-a23e-6527e69209ec/lessons/601ae704-1035-4287-8b11-e2c2716217ad/concepts/d4aca031-508f-4e0b-b493-e7b706120f81) feature maps looked like for it's second convolutional layer you could enter conv2 as the tf_activation variable.\n",
    "\n",
    "For an example of what feature map outputs look like, check out NVIDIA's results in their paper [End-to-End Deep Learning for Self-Driving Cars](https://devblogs.nvidia.com/parallelforall/deep-learning-self-driving-cars/) in the section Visualization of internal CNN State. NVIDIA was able to show that their network's inner weights had high activations to road boundary lines by comparing feature maps from an image with a clear path to one without. Try experimenting with a similar test to show that your trained network's weights are looking for interesting features, whether it's looking at differences in feature maps from images with or without a sign, or even what feature maps look like in a trained network vs a completely untrained one on the same sign image.\n",
    "\n",
    "<figure>\n",
    " <img src=\"visualize_cnn.png\" width=\"380\" alt=\"Combined Image\" />\n",
    " <figcaption>\n",
    " <p></p> \n",
    " <p style=\"text-align: center;\"> Your output should look something like this (above)</p> \n",
    " </figcaption>\n",
    "</figure>\n",
    " <p></p> \n"
   ]
  },
  {
   "cell_type": "code",
   "execution_count": null,
   "metadata": {
    "collapsed": true
   },
   "outputs": [],
   "source": [
    "### Visualize your network's feature maps here.\n",
    "### Feel free to use as many code cells as needed.\n",
    "\n",
    "# image_input: the test image being fed into the network to produce the feature maps\n",
    "# tf_activation: should be a tf variable name used during your training procedure that represents the calculated state of a specific weight layer\n",
    "# activation_min/max: can be used to view the activation contrast in more detail, by default matplot sets min and max to the actual min and max values of the output\n",
    "# plt_num: used to plot out multiple different weight feature map sets on the same block, just extend the plt number for each new feature map entry\n",
    "\n",
    "def outputFeatureMap(image_input, tf_activation, activation_min=-1, activation_max=-1 ,plt_num=1):\n",
    "    # Here make sure to preprocess your image_input in a way your network expects\n",
    "    # with size, normalization, ect if needed\n",
    "    # image_input =\n",
    "    # Note: x should be the same name as your network's tensorflow data placeholder variable\n",
    "    # If you get an error tf_activation is not defined it may be having trouble accessing the variable from inside a function\n",
    "    activation = tf_activation.eval(session=sess,feed_dict={x : image_input})\n",
    "    featuremaps = activation.shape[3]\n",
    "    plt.figure(plt_num, figsize=(15,15))\n",
    "    for featuremap in range(featuremaps):\n",
    "        plt.subplot(6,8, featuremap+1) # sets the number of feature maps to show on each row and column\n",
    "        plt.title('FeatureMap ' + str(featuremap)) # displays the feature map number\n",
    "        if activation_min != -1 & activation_max != -1:\n",
    "            plt.imshow(activation[0,:,:, featuremap], interpolation=\"nearest\", vmin =activation_min, vmax=activation_max, cmap=\"gray\")\n",
    "        elif activation_max != -1:\n",
    "            plt.imshow(activation[0,:,:, featuremap], interpolation=\"nearest\", vmax=activation_max, cmap=\"gray\")\n",
    "        elif activation_min !=-1:\n",
    "            plt.imshow(activation[0,:,:, featuremap], interpolation=\"nearest\", vmin=activation_min, cmap=\"gray\")\n",
    "        else:\n",
    "            plt.imshow(activation[0,:,:, featuremap], interpolation=\"nearest\", cmap=\"gray\")"
   ]
  }
 ],
 "metadata": {
  "anaconda-cloud": {},
  "kernelspec": {
   "display_name": "Python 3",
   "language": "python",
   "name": "python3"
  },
  "language_info": {
   "codemirror_mode": {
    "name": "ipython",
    "version": 3
   },
   "file_extension": ".py",
   "mimetype": "text/x-python",
   "name": "python",
   "nbconvert_exporter": "python",
   "pygments_lexer": "ipython3",
   "version": "3.5.4"
  }
 },
 "nbformat": 4,
 "nbformat_minor": 1
}
